{
 "cells": [
  {
   "cell_type": "markdown",
   "id": "a5e3241f-c0a7-4b1c-8e01-d0c0064fb8e6",
   "metadata": {},
   "source": [
    "# Objectif\n",
    "\n",
    "Ce notebook d'introduction vous familiarise avec l'environnement du TP, avant les questions proprement dites.\n",
    "\n",
    "Les données et les traitements se feront sur le cloud Google (Google Cloud Platform ou GCP), avec lequel nous interagirons grâce aux notebooks."
   ]
  },
  {
   "cell_type": "markdown",
   "id": "630321a0-2d7b-4bed-9d2b-bcd2f219ac41",
   "metadata": {},
   "source": [
    "# I. L'interface BigQuery\n",
    "\n",
    "Ouvrez une session de navigateur privée, et allez sur https://console.cloud.google.com.\n",
    "\n",
    "Le login est de la forme `binome_xxx@thomasvial.fr`, `xxx` étant le n° de binôme (une lettre et 2 chiffres), et le mot de passe est composé de chiffres et de lettres en minuscules, fourni.\n",
    "\n",
    "Après avoir accepté les conditions d’utilisation et quand la console s’affiche, sélectionner le projet `BUT-TP`.\n",
    "\n",
    "Naviguer ensuite vers Big Query en tapant par exemple `big query` dans la barre de recherche. Vous devez arriver sur un écran qui ressemble au suivant :\n",
    "\n",
    "![](https://raw.githubusercontent.com/tvial/BUT-R6.01/refs/heads/main/TP3/images/bq.png)\n",
    "\n",
    "Dans le panneau de gauche, vous devez voir les éléments de votre “explorateur” personnel. Il doit y avoir l’identifiant de votre binôme ; c’est un dataset BigQuery, qui permet d’organiser les objets créés (tables, etc.). Dans la capture d’écran, le dataset s’appelle `binome_zz`.\n",
    "\n",
    "![](https://raw.githubusercontent.com/tvial/BUT-R6.01/refs/heads/main/TP3/images/explo.png)\n",
    "\n",
    "Les 3 points en face du dataset permettent de créer une table avec sa structure, selon les options que vous donnerez dans les questions du TP.\n",
    "\n",
    "### Vous pouvez commencer la partie 1 tu TP"
   ]
  },
  {
   "cell_type": "markdown",
   "id": "b4f0b1fa-8330-4459-8972-b00bbb5d9269",
   "metadata": {},
   "source": [
    "# II. Interroger BigQuery depuis un notebook"
   ]
  },
  {
   "cell_type": "markdown",
   "id": "dfcf136c-87d9-42f6-b4d9-f8e356fa8f45",
   "metadata": {},
   "source": [
    "## 1 - Chargement et configuration de l'extension"
   ]
  },
  {
   "cell_type": "code",
   "execution_count": null,
   "id": "5ea8e71d-afb8-433e-ba19-d1c61fbe270f",
   "metadata": {},
   "outputs": [],
   "source": [
    "%load_ext bigquery_magics"
   ]
  },
  {
   "cell_type": "code",
   "execution_count": null,
   "id": "6499422e-1459-437a-8162-6493b3da8221",
   "metadata": {},
   "outputs": [],
   "source": [
    "import bigquery_magics\n",
    "bigquery_magics.context.project = 'but-tp'"
   ]
  },
  {
   "cell_type": "markdown",
   "id": "d3e7b824-35ea-47c6-a128-2276badc1d05",
   "metadata": {},
   "source": [
    "## 2 - Exécution d'une requête simple\n",
    "\n",
    "Une requête est une cellule commençant par `%%bigquery`.\n",
    "\n",
    "A la première requête, il faut s'authentifier à nouveau auprès de GCP. Il va nous demander d'entrer nos informations de connexion : mettez votre adresse de binôme (`binome_xxx@thomasvial.fr`), le mot de passe fourni, approuvez la connexion, et copiez le code affiché par la page avant de faire Entrée.\n",
    "\n",
    "Si tout va bien, vous devriez voir le résultat, à savoir 3."
   ]
  },
  {
   "cell_type": "code",
   "execution_count": null,
   "id": "4b68ff9d-e25f-4dd5-af3c-08fa53b75cf9",
   "metadata": {},
   "outputs": [],
   "source": [
    "%%bigquery\n",
    "SELECT 1 + 2 as result"
   ]
  },
  {
   "cell_type": "markdown",
   "id": "1664ba22-8749-4f37-a777-811272224669",
   "metadata": {},
   "source": [
    "## 3 - Accès aux tables\n",
    "\n",
    "Il y a une table `demo__mapping` dans le _dataset_ `shared` du projet. On peut la requêter comme suit. Notez la référence au dataset devant le nom de la table : c'est obligatoire."
   ]
  },
  {
   "cell_type": "code",
   "execution_count": null,
   "id": "69ca3ea9-b9e6-4a79-8e1f-6a7122280b05",
   "metadata": {},
   "outputs": [],
   "source": [
    "%%bigquery\n",
    "SELECT * FROM shared.demo__mapping WHERE machine_id LIKE 'N%'"
   ]
  },
  {
   "cell_type": "markdown",
   "id": "5e190b5d-4b0e-4636-8d2c-0c0626a81401",
   "metadata": {},
   "source": [
    "## 4 - Récupération dans un dataframe\n",
    "\n",
    "En précisant un nom après `%%bigquery`, une variable Python sera créée. Ce sera un dataframe Pandas :"
   ]
  },
  {
   "cell_type": "code",
   "execution_count": null,
   "id": "903319fc-43a5-4474-9569-23caa677aec5",
   "metadata": {},
   "outputs": [],
   "source": [
    "%%bigquery machines_in_Naves\n",
    "SELECT * FROM shared.demo__mapping WHERE machine_id LIKE 'N%'"
   ]
  },
  {
   "cell_type": "code",
   "execution_count": null,
   "id": "5707d870-560b-480a-91d6-164cc559123a",
   "metadata": {},
   "outputs": [],
   "source": [
    "import re\n",
    "machines_in_Naves['machine_name'].apply(lambda name: re.split('[-_ ]', name)[0]).value_counts()"
   ]
  },
  {
   "cell_type": "markdown",
   "id": "4cc58ac9-23d4-4cdd-bdfb-11c13a9af62a",
   "metadata": {},
   "source": [
    "## 5 - Création d'une table\n",
    "\n",
    "Les tables que vous créerez seront stockées dans le dataset associé à votre binôme, qui porte son nom. Changez le nom du dataset dans la cellule ci-dessous avant de l'exécuter.\n",
    "\n",
    "**Vous devrez référencer votre dataset à chaque fois que vous créerez ou lirez une table dedans.**\n",
    "\n",
    "Notez également le `CREATE OR REPLACE TABLE`. Il permet de supprimer la table si elle existe déjà, ainsi on peut réexécuter la cellule plusieurs fois sans se poser de questions."
   ]
  },
  {
   "cell_type": "code",
   "execution_count": null,
   "id": "a71337e5-a519-4728-b58c-791080c4253d",
   "metadata": {},
   "outputs": [],
   "source": [
    "%%bigquery\n",
    "CREATE OR REPLACE TABLE binome_xxx.copy_of_mapping_Villemomble AS\n",
    "  SELECT * from shared.demo__mapping\n",
    "  WHERE machine_id LIKE 'V%'"
   ]
  },
  {
   "cell_type": "code",
   "execution_count": null,
   "id": "9ef76e59-f722-41da-b20f-3691e100b867",
   "metadata": {},
   "outputs": [],
   "source": [
    "%%bigquery\n",
    "SELECT * FROM binome_xxx.copy_of_mapping_Villemomble"
   ]
  },
  {
   "cell_type": "markdown",
   "id": "f288c372-d7d7-475b-bfe0-a38206ece9d4",
   "metadata": {},
   "source": [
    "### Vous pouvez commencer la partie 2 du TP, et revenir à ce notebook quand vous aurez besoin de conseils sur des points particuliers."
   ]
  },
  {
   "cell_type": "markdown",
   "id": "1ae52e4f-169b-41db-ae9e-11743ca41f1b",
   "metadata": {},
   "source": [
    "# III. Le dialecte SQL de BigQuery\n",
    "\n",
    "BigQuery respecte en grande partie le standard SQL, mais il a aussi des extensions pour profiter de fonctionnalités additionnelles. Nous en passons quelques-unes en revue ici.\n",
    "\n",
    "La documentation se trouve ici : [introduction au SQL de BigQuery](https://cloud.google.com/bigquery/docs/introduction-sql) et [référence des fonctions](https://cloud.google.com/bigquery/docs/reference/standard-sql/functions-all). **Consultez ces ressources en dernier recours, tenez plutôt compte des astuces ci-dessous qui vous feront gagner du temps, en évitant de chercher dans la documentation**."
   ]
  },
  {
   "cell_type": "markdown",
   "id": "d08fccc8-d737-464c-b971-6635e3082bed",
   "metadata": {},
   "source": [
    "## Transposition de tableaux\n",
    "\n",
    "On a besoin de “déplier” en le considérant comme une mini-table, que l’on joint (produit cartésien) à la table originelle pour en démultiplier les lignes.\n",
    "\n",
    "Le “dépliage” du tableau se fait avec la fonction `UNNEST()` de BigQuery, la jointure avec l’opérateur `CROSS JOIN` classique.\n",
    "\n",
    "Voici un exemple simplifié, avec des vecteurs simples. Si notre table de départ, mytable, contient ceci :"
   ]
  },
  {
   "cell_type": "code",
   "execution_count": null,
   "id": "44fcb5ed-267c-4016-830a-e3d87fa27bac",
   "metadata": {},
   "outputs": [],
   "source": [
    "%%bigquery\n",
    "SELECT * FROM shared.demo__unnest"
   ]
  },
  {
   "cell_type": "markdown",
   "id": "dc744e70-f6c2-416b-9e3a-4d06eaf8240e",
   "metadata": {},
   "source": [
    "On peut \"déplier\" ainsi :"
   ]
  },
  {
   "cell_type": "code",
   "execution_count": null,
   "id": "45d98547-5f2b-487f-8c16-609fc28c2d0c",
   "metadata": {},
   "outputs": [],
   "source": [
    "%%bigquery\n",
    "SELECT id, element\n",
    "FROM shared.demo__unnest\n",
    "CROSS JOIN\n",
    "UNNEST(myarray) AS element"
   ]
  },
  {
   "cell_type": "markdown",
   "id": "56d3f60a-4638-435e-99b1-82415e9a34d9",
   "metadata": {},
   "source": [
    "Si on besoin de mettre en face la position de chaque élément dans le tableau, on peut étendre la requête :"
   ]
  },
  {
   "cell_type": "code",
   "execution_count": null,
   "id": "1e57d987-c03b-47cd-ba9c-8770dbe22ab6",
   "metadata": {},
   "outputs": [],
   "source": [
    "%%bigquery\n",
    "SELECT id, element, position\n",
    "FROM shared.demo__unnest\n",
    "CROSS JOIN\n",
    "UNNEST(myarray) AS element\n",
    "WITH OFFSET AS position"
   ]
  },
  {
   "cell_type": "markdown",
   "id": "69c3cb5a-818b-49d4-b5b0-99d3f66732ec",
   "metadata": {},
   "source": [
    "## Création d'une UDF\n",
    "\n",
    "Une UDF se fait avec l'ordre `CREATE [OR REPLACE] FUNCTION`. Il faut lui donner des paramètres, avec leur type, et préciser le type de retour. Le corps de la fonction, un ordre `SELECT` faisant intervenir les paramètres, se met ensuite après `AS` et est compris entre 2 jeux de parenthèses : `(( ... ))`.\n",
    "\n",
    "Voici un exemple qui calcule la somme des éléments d'un vecteur :"
   ]
  },
  {
   "cell_type": "code",
   "execution_count": null,
   "id": "2daaa72d-67c9-4fc3-89f1-5f35da2db06d",
   "metadata": {},
   "outputs": [],
   "source": [
    "%%bigquery\n",
    "CREATE OR REPLACE FUNCTION binome_xxx.vector_sum (vec ARRAY<FLOAT64>)\n",
    "RETURNS FLOAT64\n",
    "AS ((\n",
    "    SELECT SUM(x)\n",
    "    FROM UNNEST(vec) AS x\n",
    "))"
   ]
  },
  {
   "cell_type": "markdown",
   "id": "87cbeb37-7277-45d9-a000-6d4d9a9f59ff",
   "metadata": {},
   "source": [
    "Notez le nom du type \"flottant\" dans BigQuery : `FLOAT64`, ainsi que l'utilisation d'un type \"tableau\" : `ARRAY<FLOAT64>`."
   ]
  },
  {
   "cell_type": "code",
   "execution_count": null,
   "id": "8c0b6822-7e92-4bfa-b4d8-c8b79c64ce54",
   "metadata": {},
   "outputs": [],
   "source": [
    "%%bigquery\n",
    "SELECT binome_xxx.vector_sum([1., 5., 9., -3.])"
   ]
  },
  {
   "cell_type": "markdown",
   "id": "7d5b6f19-660a-4a5d-bf80-ba19ef014337",
   "metadata": {},
   "source": [
    "## Clauses `WITH`\n",
    "\n",
    "Pour éviter d'écrire des requêtes trop compliquées, on les découpe en requêtes intermédiaires dont les résultats sont ensuite utilisées comme des tables virtuelles. C'est l'analogue de variables locales en programmation.\n",
    "\n",
    "Exemple :"
   ]
  },
  {
   "cell_type": "code",
   "execution_count": null,
   "id": "6e0a166e-f253-4f03-b5ee-268ab6590c9f",
   "metadata": {},
   "outputs": [],
   "source": [
    "%%bigquery\n",
    "\n",
    "WITH mapping_with_machine_type AS (\n",
    "    SELECT\n",
    "        machine_name,\n",
    "        SUBSTR(machine_id, 2, 1) AS machine_type\n",
    "    FROM shared.demo__mapping\n",
    ")\n",
    "SELECT\n",
    "    machine_type,\n",
    "    COUNT(*) AS number\n",
    "FROM mapping_with_machine_type\n",
    "GROUP BY machine_type"
   ]
  },
  {
   "cell_type": "markdown",
   "id": "a20b345c-6199-4fa2-895b-9bc93f696ec6",
   "metadata": {},
   "source": [
    "Il est aussi possible d'enchaîner plusieurs clauses `WITH` qui se référencent les unes les autres :"
   ]
  },
  {
   "cell_type": "code",
   "execution_count": null,
   "id": "ced06358-9ddf-4f61-96aa-7fbfc3c391f4",
   "metadata": {},
   "outputs": [],
   "source": [
    "%%bigquery\n",
    "\n",
    "WITH mapping_with_machine_type_and_site AS (\n",
    "    SELECT\n",
    "        machine_name,\n",
    "        SUBSTR(machine_id, 2, 1) AS machine_type,\n",
    "        SUBSTR(machine_id, 1, 1) AS site,\n",
    "    FROM shared.demo__mapping\n",
    "),\n",
    "counts_per_type_and_site AS (\n",
    "    SELECT\n",
    "        machine_type,\n",
    "        site,\n",
    "        COUNT(*) AS number\n",
    "    FROM mapping_with_machine_type_and_site\n",
    "    GROUP BY machine_type, site\n",
    ")\n",
    "SELECT\n",
    "    machine_type,\n",
    "    SUM(number) AS total\n",
    "FROM counts_per_type_and_site\n",
    "GROUP BY machine_type"
   ]
  },
  {
   "cell_type": "markdown",
   "id": "c81f1646-149b-4a00-9bac-4a3f349e2d2a",
   "metadata": {},
   "source": [
    "## Requête de pivotage\n",
    "\n",
    "On fournit la requête toute faite :"
   ]
  },
  {
   "cell_type": "code",
   "execution_count": null,
   "id": "0bda7993-6acd-497a-9505-182ada105b6c",
   "metadata": {},
   "outputs": [],
   "source": [
    "%%bigquery\n",
    "WITH unfolded AS (\n",
    "  SELECT\n",
    "      vmd.* except (vector),\n",
    "      element,\n",
    "      'V' || CAST(position AS STRING) AS position\n",
    "      FROM binome_xxx.vectors_with_metadata AS vmd\n",
    "      CROSS JOIN UNNEST(vmd.vector) AS element WITH OFFSET position\n",
    ")\n",
    "SELECT *\n",
    "FROM unfolded\n",
    "PIVOT (\n",
    "  MIN(element)\n",
    "  FOR position IN (\n",
    "    'V0', 'V1', 'V2', 'V3', 'V4', 'V5', 'V6', 'V7', 'V8', 'V9', 'V10', 'V11', 'V12', 'V13', 'V14', 'V15'\n",
    "  )\n",
    ")"
   ]
  },
  {
   "cell_type": "markdown",
   "id": "11bdc7b1-8044-4b7f-92e5-af72a84c5883",
   "metadata": {},
   "source": [
    "Observer la structure du dataframe résultant.\n",
    "\n",
    "Explication pour les curieux :\n",
    "\n",
    "La pseudo-table `unfolded` est la version “dépliée” de `vectors_with_metadata` après éclatement des vecteurs eux-mêmes (au début, on avait juste déplié le niveau de tableau précédent). La position (`offset`) est transformée en chaîne de caractère `‘Vxx’` car ses valeurs détermineront le nom des colonnes du résultat.\n",
    "\n",
    "Ensuite le résultat est pivoté, grâce à l’opérateur `PIVOT` ; il implique une agrégation, comme pour un tableau croisé dynamique. Ici les valeurs sont toutes uniques, l’opération `MIN()` n’a pas d’effet si ce n’est satisfaire le besoin d’agrégation."
   ]
  },
  {
   "cell_type": "markdown",
   "id": "97c219bd-7065-443a-add3-a162aaac0fc5",
   "metadata": {},
   "source": [
    "## Entraînement d'un modèle de machine learning\n",
    "\n",
    "Pour entraîner un modèle de K-means, il faut respecter le protocole suivant :\n",
    "\n",
    "```\n",
    "CREATE OR REPLACE MODEL binome_xxx.kmeans\n",
    "TRANSFORM (...)\n",
    "OPTIONS (\n",
    "...\n",
    ")\n",
    "AS SELECT ...\n",
    "```\n",
    "\n",
    "Dans la partie `TRANSFORM`, on met entre parenthèses une liste de colonnes qui serviront de features pour l’entraînement. Ce peut être un sous-ensemble des colonnes du `SELECT`, ou des expressions dérivées de celles-ci. La transformation sera enregistrée avec le modèle et servira à l'inférence.\n",
    "\n",
    "Les options sont des listes de type `PARAMETRE = valeur`, séparées par des virgules ; ce sont les hyperparamètres du modèle par exemple.\n",
    "\n",
    "Le `SELECT` fournit le jeu de données d’entraînement. Dans ce cas précis, le plus simple est que cette clause soit de la forme `SELECT * FROM (requête pivot)`."
   ]
  },
  {
   "cell_type": "markdown",
   "id": "f261957e-63e5-4c92-91dd-84877323344d",
   "metadata": {},
   "source": [
    "## Inférence\n",
    "\n",
    "Pour l’inférence, la syntaxe est un peu différente et utilise la fonction `ML.PREDICT()` de BigQuery :\n",
    "\n",
    "```\n",
    "SELECT * \n",
    "FROM ML.PREDICT(\n",
    "  MODEL binome_xxx.kmeans,\n",
    "  (SELECT ...)\n",
    ")\n",
    "```\n",
    "\n",
    "Le `SELECT` interne doit être entre parenthèse, et sa structure doit contenir les colonnes du `TRANSFORM` du jeu d’entraînement. Dans notre cas, ce `SELECT` doit donc reprendre la requête pivot, adaptée aux données d'inférence."
   ]
  },
  {
   "cell_type": "code",
   "execution_count": null,
   "id": "e72b6391-177d-4da7-a5f6-cc64f61fd11e",
   "metadata": {},
   "outputs": [],
   "source": []
  }
 ],
 "metadata": {
  "kernelspec": {
   "display_name": "Python 3 (ipykernel)",
   "language": "python",
   "name": "python3"
  },
  "language_info": {
   "codemirror_mode": {
    "name": "ipython",
    "version": 3
   },
   "file_extension": ".py",
   "mimetype": "text/x-python",
   "name": "python",
   "nbconvert_exporter": "python",
   "pygments_lexer": "ipython3",
   "version": "3.13.1"
  }
 },
 "nbformat": 4,
 "nbformat_minor": 5
}
